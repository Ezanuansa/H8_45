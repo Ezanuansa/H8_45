{
 "cells": [
  {
   "cell_type": "markdown",
   "metadata": {},
   "source": [
    "# Desctiptive Statistics by Python"
   ]
  },
  {
   "cell_type": "code",
   "execution_count": 1,
   "metadata": {},
   "outputs": [],
   "source": [
    "import math\n",
    "import statistics\n",
    "import numpy as np\n",
    "import pandas as pd\n",
    "import scipy\n",
    "import scipy.stats\n",
    "import matplotlib.pyplot as plt\n",
    "import seaborn as sns\n",
    "import statsmodels.api as sm\n",
    "\n",
    "from IPython.display import Math, Latex\n",
    "from IPython.core.display import Image\n",
    "from scipy.stats import uniform, norm, gamma, expon, poisson, binom, bernoulli\n",
    "\n",
    "# seaborn configuration\n",
    "sns.set(color_codes=True)\n",
    "sns.set(rc={\"figure.figsize\": (5,5)})"
   ]
  },
  {
   "cell_type": "code",
   "execution_count": 2,
   "metadata": {},
   "outputs": [
    {
     "data": {
      "text/plain": [
       "'1.19.2'"
      ]
     },
     "execution_count": 2,
     "metadata": {},
     "output_type": "execute_result"
    }
   ],
   "source": [
    "scipy.__version__\n",
    "np.__version__\n",
    "pd.__version__\n",
    "np.__version__"
   ]
  },
  {
   "cell_type": "code",
   "execution_count": 3,
   "metadata": {},
   "outputs": [
    {
     "name": "stdout",
     "output_type": "stream",
     "text": [
      "[8.0, 1, 2.5, 4, 28.0]\n",
      "[8.0, 1, 2.5, nan, 4, 28.0]\n"
     ]
    }
   ],
   "source": [
    "list_x = [8., 1, 2.5, 4, 28.]\n",
    "list_x_nan = [8., 1, 2.5, math.nan, 4, 28.]\n",
    "\n",
    "print(list_x)\n",
    "print(list_x_nan)"
   ]
  },
  {
   "cell_type": "code",
   "execution_count": 4,
   "metadata": {},
   "outputs": [
    {
     "name": "stdout",
     "output_type": "stream",
     "text": [
      "[ 8.   1.   2.5  4.  28. ] [ 8.   1.   2.5  nan  4.  28. ]\n",
      "0     8.0\n",
      "1     1.0\n",
      "2     2.5\n",
      "3     4.0\n",
      "4    28.0\n",
      "dtype: float64\n",
      "0     8.0\n",
      "1     1.0\n",
      "2     2.5\n",
      "3     NaN\n",
      "4     4.0\n",
      "5    28.0\n",
      "dtype: float64\n"
     ]
    }
   ],
   "source": [
    "arr_x, arr_x_nan = np.array(list_x), np.array(list_x_nan)\n",
    "series_x, series_x_nan = pd.Series(list_x), pd.Series(list_x_nan)\n",
    "\n",
    "print(arr_x, arr_x_nan)\n",
    "print(series_x, series_x_nan, sep=\"\\n\")"
   ]
  },
  {
   "cell_type": "markdown",
   "metadata": {},
   "source": [
    "## Mean"
   ]
  },
  {
   "cell_type": "code",
   "execution_count": 5,
   "metadata": {},
   "outputs": [
    {
     "name": "stdout",
     "output_type": "stream",
     "text": [
      "8.7\n",
      "8.7\n"
     ]
    }
   ],
   "source": [
    "native_mean = sum(list_x) / len(list_x)\n",
    "stats_mean = statistics.mean(list_x)\n",
    "\n",
    "print(native_mean)\n",
    "print(stats_mean)"
   ]
  },
  {
   "cell_type": "code",
   "execution_count": 6,
   "metadata": {},
   "outputs": [
    {
     "name": "stdout",
     "output_type": "stream",
     "text": [
      "[8.0, 1, 2.5, nan, 4, 28.0]\n",
      "nan\n",
      "nan\n",
      "nan\n",
      "nan\n"
     ]
    }
   ],
   "source": [
    "print(list_x_nan)\n",
    "native_mean_nan = sum(list_x_nan) / len(list_x_nan)\n",
    "stats_mean_nan = statistics.mean(list_x_nan)\n",
    "arr_mean_nan = arr_x_nan.mean()\n",
    "np_mean_nan = np.mean(arr_x_nan)\n",
    "\n",
    "print(native_mean_nan)\n",
    "print(stats_mean_nan)\n",
    "print(arr_mean_nan)\n",
    "print(np_mean_nan)"
   ]
  },
  {
   "cell_type": "code",
   "execution_count": 7,
   "metadata": {},
   "outputs": [
    {
     "name": "stdout",
     "output_type": "stream",
     "text": [
      "8.7\n"
     ]
    }
   ],
   "source": [
    "np_mean_ignoring_nan = np.nanmean(arr_x_nan)\n",
    "\n",
    "print(np_mean_ignoring_nan)"
   ]
  },
  {
   "cell_type": "code",
   "execution_count": 8,
   "metadata": {},
   "outputs": [
    {
     "data": {
      "text/plain": [
       "(8.7, 8.7, nan)"
      ]
     },
     "execution_count": 8,
     "metadata": {},
     "output_type": "execute_result"
    }
   ],
   "source": [
    "series_x_nan.mean(), series_x_nan.mean(), series_x_nan.mean(skipna= False)"
   ]
  },
  {
   "cell_type": "markdown",
   "metadata": {},
   "source": [
    "## Weighted Mean"
   ]
  },
  {
   "cell_type": "code",
   "execution_count": 9,
   "metadata": {},
   "outputs": [
    {
     "name": "stdout",
     "output_type": "stream",
     "text": [
      "[8.0, 1, 2.5, 4, 28.0]\n",
      "[0.1, 0.2, 0.3, 0.25, 0.15]\n"
     ]
    }
   ],
   "source": [
    "list_weight = [.1, .2, .3, .25, .15]\n",
    "print(list_x)\n",
    "print(list_weight)"
   ]
  },
  {
   "cell_type": "code",
   "execution_count": 10,
   "metadata": {},
   "outputs": [
    {
     "name": "stdout",
     "output_type": "stream",
     "text": [
      "6.95\n"
     ]
    }
   ],
   "source": [
    "jumlah = 0\n",
    "for idx in range(len(list_x)):\n",
    "    jumlah += list_weight[idx] * list_x[idx]\n",
    "print(jumlah)"
   ]
  },
  {
   "cell_type": "code",
   "execution_count": 11,
   "metadata": {},
   "outputs": [
    {
     "data": {
      "text/plain": [
       "6.95"
      ]
     },
     "execution_count": 11,
     "metadata": {},
     "output_type": "execute_result"
    }
   ],
   "source": [
    "weighted_mean = sum(list_weight[idx] * list_x[idx] for idx in range(len(list_x))) / sum(list_weight)\n",
    "weighted_mean"
   ]
  },
  {
   "cell_type": "code",
   "execution_count": 12,
   "metadata": {},
   "outputs": [
    {
     "data": {
      "text/plain": [
       "6.95"
      ]
     },
     "execution_count": 12,
     "metadata": {},
     "output_type": "execute_result"
    }
   ],
   "source": [
    "weighted_mean2 = sum(w*x for w, x in zip (list_weight, list_x)) / sum(list_weight)\n",
    "weighted_mean2"
   ]
  },
  {
   "cell_type": "code",
   "execution_count": 13,
   "metadata": {},
   "outputs": [
    {
     "data": {
      "text/plain": [
       "6.95"
      ]
     },
     "execution_count": 13,
     "metadata": {},
     "output_type": "execute_result"
    }
   ],
   "source": [
    "weighted_mean3 = np.average(list_x, weights=list_weight)\n",
    "weighted_mean3"
   ]
  },
  {
   "cell_type": "code",
   "execution_count": 14,
   "metadata": {},
   "outputs": [
    {
     "name": "stdout",
     "output_type": "stream",
     "text": [
      "2.7613412228796843\n",
      "2.7613412228796843\n",
      "Native Arithmatic Mean: 8.7\n"
     ]
    }
   ],
   "source": [
    "harmonic_mean = len(list_x) / sum(1 / x for x in list_x)\n",
    "scipy_harmonic_mean = scipy.stats.hmean(list_x)\n",
    "\n",
    "print(harmonic_mean)\n",
    "print(scipy_harmonic_mean)\n",
    "print(\"Native Arithmatic Mean:\", sum(list_x) / len(list_x))"
   ]
  },
  {
   "cell_type": "code",
   "execution_count": 15,
   "metadata": {},
   "outputs": [
    {
     "name": "stdout",
     "output_type": "stream",
     "text": [
      "4.677885674856041\n",
      "4.67788567485604\n",
      "nan\n"
     ]
    }
   ],
   "source": [
    "geometric_mean = 1\n",
    "for value in list_x:\n",
    "    geometric_mean *= value\n",
    "geometric_mean **= (1/len(list_x))\n",
    "print(geometric_mean)\n",
    "\n",
    "scipy_geometric_mean = scipy.stats.gmean(list_x)\n",
    "print(scipy_geometric_mean)\n",
    "print(scipy.stats.gmean(list_x_nan))"
   ]
  },
  {
   "cell_type": "markdown",
   "metadata": {},
   "source": [
    "## Median"
   ]
  },
  {
   "cell_type": "code",
   "execution_count": 16,
   "metadata": {},
   "outputs": [
    {
     "name": "stdout",
     "output_type": "stream",
     "text": [
      "5\n",
      "4\n"
     ]
    }
   ],
   "source": [
    "num_data = len(list_x)\n",
    "print(num_data)\n",
    "\n",
    "if num_data % 2:    #odd\n",
    "    native_median = sorted(list_x)[round((num_data-1) / 2)]\n",
    "else:       #even\n",
    "    median_idx = num_data / 2\n",
    "    native_median = (sorted(x)[median_idx-1] + sorted(x)[median_idx-1]) / 2\n",
    "\n",
    "print(native_median)\n"
   ]
  },
  {
   "cell_type": "code",
   "execution_count": 17,
   "metadata": {},
   "outputs": [
    {
     "name": "stdout",
     "output_type": "stream",
     "text": [
      "4\n",
      "2.5\n"
     ]
    }
   ],
   "source": [
    "num_data = len(list_x[:-1])\n",
    "print(num_data)\n",
    "\n",
    "if num_data % 2:    #odd\n",
    "    native_median = sorted(list_x)[round((num_data-1) / 2)]\n",
    "else:       #even\n",
    "    median_idx = round(num_data / 2)\n",
    "    native_median = (sorted(list_x)[median_idx-1] + sorted(list_x)[median_idx-1]) / 2\n",
    "\n",
    "print(native_median)\n"
   ]
  },
  {
   "cell_type": "code",
   "execution_count": 18,
   "metadata": {},
   "outputs": [
    {
     "name": "stdout",
     "output_type": "stream",
     "text": [
      "4\n",
      "3.25\n",
      "2.5\n",
      "4\n",
      "[1, 2.5, 4, 8.0, nan, 28.0]\n",
      "6.0\n",
      "4\n",
      "8.0\n",
      "[1, 2.5, nan, 4, 28.0]\n",
      "nan\n",
      "nan\n",
      "nan\n",
      "4.0\n",
      "3.25\n",
      "nan\n",
      "nan\n",
      "4.0\n",
      "3.25\n"
     ]
    }
   ],
   "source": [
    "print(statistics.median(list_x))\n",
    "print(statistics.median(list_x[:-1]))\n",
    "\n",
    "print(statistics.median_low(list_x[:-1]))\n",
    "print(statistics.median_high(list_x[:-1]))\n",
    "\n",
    "print(sorted(list_x_nan))\n",
    "print(statistics.median(list_x_nan))\n",
    "print(statistics.median_low(list_x_nan))\n",
    "print(statistics.median_high(list_x_nan))\n",
    "\n",
    "print(sorted(list_x_nan[1:]))\n",
    "print(statistics.median(list_x_nan[1:]))\n",
    "print(statistics.median_low(list_x_nan[1:]))\n",
    "print(statistics.median_high(list_x_nan[1:]))\n",
    "\n",
    "np_median = np.median(list_x)\n",
    "print(np_median)\n",
    "print(np.median(list_x[:-1]))\n",
    "print(np.median(list_x_nan))\n",
    "print(np.median(list_x_nan[1:]))\n",
    "\n",
    "print(np.nanmedian(list_x_nan))\n",
    "print(np.nanmedian(list_x_nan[1:]))"
   ]
  },
  {
   "cell_type": "markdown",
   "metadata": {},
   "source": [
    "## Mode"
   ]
  },
  {
   "cell_type": "code",
   "execution_count": 19,
   "metadata": {},
   "outputs": [
    {
     "name": "stdout",
     "output_type": "stream",
     "text": [
      "[2, 8, 3, 2, 12]\n",
      "[12, 15, 21, 15, 12, 15, 12]\n"
     ]
    }
   ],
   "source": [
    "list_u = [2, 8, 3, 2, 12]\n",
    "list_v = [12, 15, 21, 15, 12, 15, 12]\n",
    "\n",
    "print(list_u)\n",
    "print(list_v)"
   ]
  },
  {
   "cell_type": "code",
   "execution_count": 20,
   "metadata": {},
   "outputs": [
    {
     "name": "stdout",
     "output_type": "stream",
     "text": [
      "2\n",
      "15\n",
      "2\n",
      "ModeResult(mode=array([2]), count=array([2]))\n",
      "ModeResult(mode=array([12]), count=array([3]))\n",
      "0    2\n",
      "dtype: int64\n",
      "0    12\n",
      "1    15\n",
      "dtype: int64\n",
      "0    2.0\n",
      "dtype: float64\n",
      "0    2.0\n",
      "1    NaN\n",
      "dtype: float64\n"
     ]
    }
   ],
   "source": [
    "native_mod_u = max([(list_u.count(value), value) for value in set (list_u)])[1]\n",
    "native_mod_v = max([(list_v.count(value), value) for value in set (list_v)])[1]\n",
    "\n",
    "print(native_mod_u)\n",
    "print(native_mod_v)\n",
    "\n",
    "stats_mod_u = statistics.mode(list_u)\n",
    "print(stats_mod_u)\n",
    "\n",
    "scipy_mode_u = scipy.stats.mode(list_u)\n",
    "scipy_mode_v = scipy.stats.mode(list_v)\n",
    "print(scipy_mode_u)\n",
    "print(scipy_mode_v)\n",
    "\n",
    "series_u, series_v = pd.Series(list_u), pd.Series(list_v)\n",
    "print(series_u.mode())\n",
    "print(series_v.mode())\n",
    "\n",
    "series_w = pd.Series([2, 2, math.nan, math.nan])\n",
    "print(series_w.mode())\n",
    "print(series_w.mode(dropna= False))"
   ]
  },
  {
   "cell_type": "markdown",
   "metadata": {},
   "source": [
    "## Variance"
   ]
  },
  {
   "cell_type": "code",
   "execution_count": 21,
   "metadata": {},
   "outputs": [
    {
     "name": "stdout",
     "output_type": "stream",
     "text": [
      "123.19999999999999\n",
      "123.2\n",
      "nan\n",
      "123.19999999999999\n",
      "nan\n",
      "123.19999999999999\n",
      "nan\n",
      "123.19999999999999\n",
      "123.19999999999999\n"
     ]
    }
   ],
   "source": [
    "n = len(list_x)\n",
    "avg = sum(list_x) / n\n",
    "\n",
    "native_variance = sum((value-avg)**2 for value in list_x) / (n-1)\n",
    "print(native_variance)\n",
    "\n",
    "stats_variance = statistics.variance(list_x)\n",
    "print(stats_variance)\n",
    "print(statistics.variance(list_x_nan))\n",
    "\n",
    "np_variance = np.var(list_x, ddof=1)\n",
    "print(np_variance)\n",
    "print(np.var(list_x_nan, ddof=1))\n",
    "\n",
    "arr_variance = arr_x.var(ddof=1)\n",
    "print(arr_variance)\n",
    "print(arr_x_nan.var(ddof=1))\n",
    "\n",
    "series_variance= series_x.var()\n",
    "print(series_variance)\n",
    "series_variance_nan = series_x_nan.var()\n",
    "print(series_variance_nan)"
   ]
  },
  {
   "cell_type": "code",
   "execution_count": 22,
   "metadata": {},
   "outputs": [
    {
     "name": "stdout",
     "output_type": "stream",
     "text": [
      "11.099549540409285\n",
      "11.099549540409287\n",
      "11.099549540409285\n",
      "11.099549540409285\n",
      "11.099549540409285\n",
      "11.099549540409285\n"
     ]
    }
   ],
   "source": [
    "native_stdev = native_variance ** .5\n",
    "print(native_stdev)\n",
    "\n",
    "stats_stdev = statistics.stdev(list_x)\n",
    "print(stats_stdev)\n",
    "\n",
    "np_stdev = np.std(list_x, ddof=1)\n",
    "print(np_stdev)\n",
    "\n",
    "arr_stdev = arr_x.std(ddof=1)\n",
    "print(arr_stdev)\n",
    "\n",
    "series_stdev= series_x.std()\n",
    "print(series_stdev)\n",
    "series_stdev_nan = series_x_nan.std()\n",
    "print(series_stdev_nan)"
   ]
  },
  {
   "cell_type": "markdown",
   "metadata": {},
   "source": [
    "## Skewness"
   ]
  },
  {
   "cell_type": "code",
   "execution_count": 23,
   "metadata": {},
   "outputs": [
    {
     "name": "stdout",
     "output_type": "stream",
     "text": [
      "1.9470432273905929\n"
     ]
    }
   ],
   "source": [
    "n = len(list_x)\n",
    "avg = sum(list_x) / n\n",
    "var_ = sum((value-avg)**2 for value in list_x) / (n-1)\n",
    "stdev_ = var_ ** .5\n",
    "\n",
    "skewness_ = (sum((value - avg)**3 for value in list_x) * n / ((n-1) * (n-2) * stdev_**3))\n",
    "print(skewness_)"
   ]
  },
  {
   "cell_type": "code",
   "execution_count": 24,
   "metadata": {},
   "outputs": [
    {
     "data": {
      "text/plain": [
       "1.9470432273905927"
      ]
     },
     "execution_count": 24,
     "metadata": {},
     "output_type": "execute_result"
    }
   ],
   "source": [
    "scipy.stats.skew(list_x, bias=False)"
   ]
  },
  {
   "cell_type": "code",
   "execution_count": 25,
   "metadata": {},
   "outputs": [
    {
     "data": {
      "text/plain": [
       "masked_array(data=1.3061163,\n",
       "             mask=False,\n",
       "       fill_value=1e+20)"
      ]
     },
     "execution_count": 25,
     "metadata": {},
     "output_type": "execute_result"
    }
   ],
   "source": [
    "scipy.stats.skew(list_x_nan, nan_policy=\"omit\")"
   ]
  },
  {
   "cell_type": "code",
   "execution_count": 26,
   "metadata": {},
   "outputs": [
    {
     "data": {
      "text/plain": [
       "1.9470432273905924"
      ]
     },
     "execution_count": 26,
     "metadata": {},
     "output_type": "execute_result"
    }
   ],
   "source": [
    "series_x.skew()"
   ]
  },
  {
   "cell_type": "code",
   "execution_count": 27,
   "metadata": {},
   "outputs": [
    {
     "data": {
      "text/plain": [
       "1.9470432273905924"
      ]
     },
     "execution_count": 27,
     "metadata": {},
     "output_type": "execute_result"
    }
   ],
   "source": [
    "series_x_nan.skew()"
   ]
  },
  {
   "cell_type": "code",
   "execution_count": 28,
   "metadata": {},
   "outputs": [
    {
     "name": "stdout",
     "output_type": "stream",
     "text": [
      "[ 8.   1.   2.5  4.  28. ]\n",
      "2.5\n",
      "4.0\n",
      "8.0\n",
      "[2.5 4.  8. ]\n"
     ]
    }
   ],
   "source": [
    "print(arr_x)\n",
    "percentile_25 = np.percentile(arr_x, 25)\n",
    "percentile_50 = np.percentile(arr_x, 50)\n",
    "percentile_75 = np.percentile(arr_x, 75)\n",
    "\n",
    "print(percentile_25)\n",
    "print(percentile_50)\n",
    "print(percentile_75)\n",
    "\n",
    "print(np.percentile(arr_x, [25, 50, 75]))"
   ]
  },
  {
   "cell_type": "code",
   "execution_count": 29,
   "metadata": {},
   "outputs": [
    {
     "data": {
      "text/plain": [
       "0.25    2.5\n",
       "0.50    4.0\n",
       "0.75    8.0\n",
       "dtype: float64"
      ]
     },
     "execution_count": 29,
     "metadata": {},
     "output_type": "execute_result"
    }
   ],
   "source": [
    "series_x.quantile([.25, .5, .75])"
   ]
  },
  {
   "cell_type": "code",
   "execution_count": 30,
   "metadata": {},
   "outputs": [
    {
     "data": {
      "text/plain": [
       "0.25    2.5\n",
       "0.50    4.0\n",
       "0.75    8.0\n",
       "dtype: float64"
      ]
     },
     "execution_count": 30,
     "metadata": {},
     "output_type": "execute_result"
    }
   ],
   "source": [
    "series_x_nan.quantile([.25, .5, .75])"
   ]
  },
  {
   "cell_type": "markdown",
   "metadata": {},
   "source": [
    "## Range"
   ]
  },
  {
   "cell_type": "code",
   "execution_count": 31,
   "metadata": {},
   "outputs": [
    {
     "name": "stdout",
     "output_type": "stream",
     "text": [
      "27.0\n",
      "nan\n"
     ]
    }
   ],
   "source": [
    "print(np.ptp(list_x))\n",
    "print(np.ptp(list_x_nan))"
   ]
  },
  {
   "cell_type": "code",
   "execution_count": 32,
   "metadata": {},
   "outputs": [
    {
     "data": {
      "text/plain": [
       "27.0"
      ]
     },
     "execution_count": 32,
     "metadata": {},
     "output_type": "execute_result"
    }
   ],
   "source": [
    "np.nanmax(list_x_nan) - np.nanmin(list_x_nan)"
   ]
  },
  {
   "cell_type": "code",
   "execution_count": 33,
   "metadata": {},
   "outputs": [
    {
     "name": "stdout",
     "output_type": "stream",
     "text": [
      "27.0\n",
      "27.0\n"
     ]
    }
   ],
   "source": [
    "print(series_x.max() - series_x.min())\n",
    "print(series_x_nan.max() - series_x_nan.min())"
   ]
  },
  {
   "cell_type": "markdown",
   "metadata": {},
   "source": [
    "### Interquartile Range"
   ]
  },
  {
   "cell_type": "code",
   "execution_count": 34,
   "metadata": {},
   "outputs": [
    {
     "name": "stdout",
     "output_type": "stream",
     "text": [
      "[2.5 4.  8. ]\n",
      "5.5\n"
     ]
    }
   ],
   "source": [
    "np_quartiles = np.percentile(arr_x, [25, 50, 75])\n",
    "print(np_quartiles)\n",
    "\n",
    "np_iqr = np_quartiles[-1] - np_quartiles[0]\n",
    "print(np_iqr)"
   ]
  },
  {
   "cell_type": "markdown",
   "metadata": {},
   "source": [
    "## Covariance"
   ]
  },
  {
   "cell_type": "code",
   "execution_count": 35,
   "metadata": {},
   "outputs": [
    {
     "name": "stdout",
     "output_type": "stream",
     "text": [
      "21 21\n"
     ]
    }
   ],
   "source": [
    "list_x = list(range(-10, 11))\n",
    "list_y = [0, 2, 2, 2, 2, 3, 3, 6, 7, 4, 7, 6, 6, 9, 4, 5, 5, 10, 11, 12, 14]\n",
    "print(len(list_x), len(list_y))"
   ]
  },
  {
   "cell_type": "code",
   "execution_count": 36,
   "metadata": {},
   "outputs": [
    {
     "name": "stdout",
     "output_type": "stream",
     "text": [
      "0.0 5.714285714285714\n",
      "42.142857142857146\n"
     ]
    }
   ],
   "source": [
    "mean_x, mean_y = sum(list_x)/len(list_x), sum(list_y)/len(list_y)\n",
    "print(mean_x, mean_y)\n",
    "\n",
    "sigma_x, sigma_y = np.array([x-mean_x for x in list_x]), np.array([y-mean_y for y in list_y])\n",
    "sigma_x, sigma_y\n",
    "\n",
    "cov_xy = (sum((list_x[idx] - mean_x) * (list_y[idx] - mean_y) for idx in range (n)) / (n-1))\n",
    "print(cov_xy)"
   ]
  },
  {
   "cell_type": "code",
   "execution_count": 37,
   "metadata": {
    "scrolled": true
   },
   "outputs": [
    {
     "data": {
      "text/plain": [
       "array([[38.5       , 19.95      ],\n",
       "       [19.95      , 13.91428571]])"
      ]
     },
     "execution_count": 37,
     "metadata": {},
     "output_type": "execute_result"
    }
   ],
   "source": [
    "np.cov(list_x, list_y)"
   ]
  },
  {
   "cell_type": "markdown",
   "metadata": {},
   "source": [
    "## Correlation"
   ]
  },
  {
   "cell_type": "code",
   "execution_count": 38,
   "metadata": {},
   "outputs": [
    {
     "name": "stdout",
     "output_type": "stream",
     "text": [
      "[-10, -9, -8, -7, -6, -5, -4, -3, -2, -1, 0, 1, 2, 3, 4, 5, 6, 7, 8, 9, 10]\n",
      "[0, 2, 2, 2, 2, 3, 3, 6, 7, 4, 7, 6, 6, 9, 4, 5, 5, 10, 11, 12, 14]\n"
     ]
    }
   ],
   "source": [
    "print(list_x)\n",
    "print(list_y)\n",
    "r, p = scipy.stats.pearsonr(list_x, list_y)"
   ]
  },
  {
   "cell_type": "code",
   "execution_count": 39,
   "metadata": {},
   "outputs": [
    {
     "data": {
      "text/plain": [
       "array([[1.        , 0.86195001],\n",
       "       [0.86195001, 1.        ]])"
      ]
     },
     "execution_count": 39,
     "metadata": {},
     "output_type": "execute_result"
    }
   ],
   "source": [
    "np.corrcoef(list_x, list_y)"
   ]
  },
  {
   "cell_type": "code",
   "execution_count": 40,
   "metadata": {},
   "outputs": [
    {
     "data": {
      "text/plain": [
       "1.0"
      ]
     },
     "execution_count": 40,
     "metadata": {},
     "output_type": "execute_result"
    }
   ],
   "source": [
    "series_x.corr(series_x)"
   ]
  },
  {
   "cell_type": "code",
   "execution_count": 41,
   "metadata": {},
   "outputs": [
    {
     "data": {
      "text/plain": [
       "0.8619500056316061"
      ]
     },
     "execution_count": 41,
     "metadata": {},
     "output_type": "execute_result"
    }
   ],
   "source": [
    "pd.Series(list_x).corr(pd.Series(list_y))"
   ]
  },
  {
   "cell_type": "markdown",
   "metadata": {},
   "source": [
    "## Correlation in 2 D"
   ]
  },
  {
   "cell_type": "code",
   "execution_count": 42,
   "metadata": {},
   "outputs": [
    {
     "ename": "TypeError",
     "evalue": "randint() takes at least 1 positional argument (0 given)",
     "output_type": "error",
     "traceback": [
      "\u001b[1;31m---------------------------------------------------------------------------\u001b[0m",
      "\u001b[1;31mTypeError\u001b[0m                                 Traceback (most recent call last)",
      "\u001b[1;32m<ipython-input-42-6b9036f2dfaa>\u001b[0m in \u001b[0;36m<module>\u001b[1;34m\u001b[0m\n\u001b[1;32m----> 1\u001b[1;33m \u001b[0mdata\u001b[0m \u001b[1;33m=\u001b[0m \u001b[0mnp\u001b[0m\u001b[1;33m.\u001b[0m\u001b[0mrandom\u001b[0m\u001b[1;33m.\u001b[0m\u001b[0mrandint\u001b[0m\u001b[1;33m(\u001b[0m\u001b[1;33m)\u001b[0m\u001b[1;33m\u001b[0m\u001b[1;33m\u001b[0m\u001b[0m\n\u001b[0m",
      "\u001b[1;32mmtrand.pyx\u001b[0m in \u001b[0;36mnumpy.random.mtrand.RandomState.randint\u001b[1;34m()\u001b[0m\n",
      "\u001b[1;31mTypeError\u001b[0m: randint() takes at least 1 positional argument (0 given)"
     ]
    }
   ],
   "source": [
    "data = np.random.randint()"
   ]
  },
  {
   "cell_type": "code",
   "execution_count": null,
   "metadata": {},
   "outputs": [],
   "source": []
  }
 ],
 "metadata": {
  "kernelspec": {
   "display_name": "Python 3",
   "language": "python",
   "name": "python3"
  },
  "language_info": {
   "codemirror_mode": {
    "name": "ipython",
    "version": 3
   },
   "file_extension": ".py",
   "mimetype": "text/x-python",
   "name": "python",
   "nbconvert_exporter": "python",
   "pygments_lexer": "ipython3",
   "version": "3.8.5"
  }
 },
 "nbformat": 4,
 "nbformat_minor": 4
}
