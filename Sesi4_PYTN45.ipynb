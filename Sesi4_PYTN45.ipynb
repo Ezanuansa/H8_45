{
 "cells": [
  {
   "cell_type": "markdown",
   "metadata": {},
   "source": [
    "# Packages Python"
   ]
  },
  {
   "cell_type": "code",
   "execution_count": 1,
   "metadata": {},
   "outputs": [
    {
     "name": "stdout",
     "output_type": "stream",
     "text": [
      "Collecting package metadata (current_repodata.json): ...working... done\n",
      "Solving environment: ...working... done\n",
      "\n",
      "## Package Plan ##\n",
      "Note: you may need to restart the kernel to use updated packages.\n",
      "\n"
     ]
    },
    {
     "name": "stderr",
     "output_type": "stream",
     "text": [
      "\n",
      "\n",
      "==> WARNING: A newer version of conda exists. <==\n",
      "  current version: 4.8.3\n",
      "  latest version: 4.9.2\n",
      "\n",
      "Please update conda by running\n",
      "\n",
      "    $ conda update -n base -c defaults conda\n",
      "\n",
      "\n"
     ]
    },
    {
     "name": "stdout",
     "output_type": "stream",
     "text": [
      "\n",
      "  environment location: C:\\Users\\Lenovo\\anaconda3\\envs\\hacktiv8-env\n",
      "\n",
      "  added / updated specs:\n",
      "    - numpy\n",
      "\n",
      "\n",
      "The following packages will be downloaded:\n",
      "\n",
      "    package                    |            build\n",
      "    ---------------------------|-----------------\n",
      "    certifi-2020.11.8          |   py38haa95532_0         148 KB\n",
      "    ------------------------------------------------------------\n",
      "                                           Total:         148 KB\n",
      "\n",
      "The following packages will be UPDATED:\n",
      "\n",
      "  certifi            pkgs/main/noarch::certifi-2020.6.20-p~ --> pkgs/main/win-64::certifi-2020.11.8-py38haa95532_0\n",
      "\n",
      "\n",
      "\n",
      "Downloading and Extracting Packages\n",
      "\n",
      "certifi-2020.11.8    | 148 KB    |            |   0% \n",
      "certifi-2020.11.8    | 148 KB    | #          |  11% \n",
      "certifi-2020.11.8    | 148 KB    | ########## | 100% \n",
      "Preparing transaction: ...working... done\n",
      "Verifying transaction: ...working... done\n",
      "Executing transaction: ...working... done\n"
     ]
    }
   ],
   "source": [
    "conda install numpy"
   ]
  },
  {
   "cell_type": "code",
   "execution_count": 2,
   "metadata": {},
   "outputs": [
    {
     "name": "stdout",
     "output_type": "stream",
     "text": [
      "# packages in environment at C:\\Users\\Lenovo\\anaconda3\\envs\\hacktiv8-env:\n",
      "#\n",
      "# Name                    Version                   Build  Channel\n",
      "argon2-cffi               20.1.0           py38he774522_1  \n",
      "\n",
      "Note: you may need to restart the kernel to use updated packages.\n",
      "async_generator           1.10                       py_0  \n",
      "attrs                     20.3.0             pyhd3eb1b0_0  \n",
      "backcall                  0.2.0                      py_0  \n",
      "blas                      1.0                         mkl  \n",
      "bleach                    3.2.1                      py_0  \n",
      "ca-certificates           2020.10.14                    0  \n",
      "certifi                   2020.11.8        py38haa95532_0  \n",
      "cffi                      1.14.3           py38hcd4344a_2  \n",
      "colorama                  0.4.4                      py_0  \n",
      "cycler                    0.10.0                   pypi_0    pypi\n",
      "decorator                 4.4.2                      py_0  \n",
      "defusedxml                0.6.0                      py_0  \n",
      "entrypoints               0.3                      py38_0  \n",
      "icu                       58.2                 ha925a31_3  \n",
      "importlib-metadata        2.0.0                      py_1  \n",
      "importlib_metadata        2.0.0                         1  \n",
      "intel-openmp              2020.2                      254  \n",
      "ipykernel                 5.3.4            py38h5ca1d4c_0  \n",
      "ipython                   7.19.0           py38hd4e2768_0  \n",
      "ipython_genutils          0.2.0                    py38_0  \n",
      "ipywidgets                7.5.1                      py_1  \n",
      "jedi                      0.17.2                   py38_0  \n",
      "jinja2                    2.11.2                     py_0  \n",
      "jpeg                      9b                   hb83a4c4_2  \n",
      "jsonschema                3.2.0                      py_2  \n",
      "jupyter                   1.0.0                    py38_7  \n",
      "jupyter_client            6.1.7                      py_0  \n",
      "jupyter_console           6.2.0                      py_0  \n",
      "jupyter_core              4.6.3                    py38_0  \n",
      "jupyterlab_pygments       0.1.2                      py_0  \n",
      "jupyterthemes             0.20.0                   pypi_0    pypi\n",
      "kiwisolver                1.3.1                    pypi_0    pypi\n",
      "lesscpy                   0.14.0                   pypi_0    pypi\n",
      "libpng                    1.6.37               h2a8f88b_0  \n",
      "libsodium                 1.0.18               h62dcd97_0  \n",
      "m2w64-gcc-libgfortran     5.3.0                         6  \n",
      "m2w64-gcc-libs            5.3.0                         7  \n",
      "m2w64-gcc-libs-core       5.3.0                         7  \n",
      "m2w64-gmp                 6.1.0                         2  \n",
      "m2w64-libwinpthread-git   5.0.0.4634.697f757               2  \n",
      "markupsafe                1.1.1            py38he774522_0  \n",
      "matplotlib                3.3.3                    pypi_0    pypi\n",
      "mistune                   0.8.4           py38he774522_1000  \n",
      "mkl                       2020.2                      256  \n",
      "mkl-service               2.3.0            py38hb782905_0  \n",
      "mkl_fft                   1.2.0            py38h45dec08_0  \n",
      "mkl_random                1.1.1            py38h47e9c7a_0  \n",
      "msys2-conda-epoch         20160418                      1  \n",
      "nbclient                  0.5.1                      py_0  \n",
      "nbconvert                 6.0.7                    py38_0  \n",
      "nbformat                  5.0.8                      py_0  \n",
      "nest-asyncio              1.4.2              pyhd3eb1b0_0  \n",
      "notebook                  6.1.5                    pypi_0    pypi\n",
      "numpy                     1.19.2           py38hadc3359_0  \n",
      "numpy-base                1.19.2           py38ha3acd2a_0  \n",
      "openssl                   1.1.1h               he774522_0  \n",
      "packaging                 20.4                       py_0  \n",
      "pandoc                    2.11                 h9490d1a_0  \n",
      "pandocfilters             1.4.3            py38haa95532_1  \n",
      "parso                     0.7.0                      py_0  \n",
      "pickleshare               0.7.5                 py38_1000  \n",
      "pillow                    8.0.1                    pypi_0    pypi\n",
      "pip                       20.2.4           py38haa95532_0  \n",
      "ply                       3.11                     pypi_0    pypi\n",
      "prometheus_client         0.8.0                      py_0  \n",
      "prompt-toolkit            3.0.8                      py_0  \n",
      "prompt_toolkit            3.0.8                         0  \n",
      "pycparser                 2.20                       py_2  \n",
      "pygments                  2.7.2              pyhd3eb1b0_0  \n",
      "pyparsing                 2.4.7                      py_0  \n",
      "pyqt                      5.9.2            py38ha925a31_4  \n",
      "pyrsistent                0.17.3           py38he774522_0  \n",
      "python                    3.8.5                h5fd99cc_1  \n",
      "python-dateutil           2.8.1                      py_0  \n",
      "pywin32                   227              py38he774522_1  \n",
      "pywinpty                  0.5.7                    py38_0  \n",
      "pyzmq                     19.0.2           py38ha925a31_1  \n",
      "qt                        5.9.7            vc14h73c81de_0  \n",
      "qtconsole                 4.7.7                      py_0  \n",
      "qtpy                      1.9.0                      py_0  \n",
      "send2trash                1.5.0                    py38_0  \n",
      "setuptools                50.3.1           py38haa95532_1  \n",
      "sip                       4.19.13          py38ha925a31_0  \n",
      "six                       1.15.0           py38haa95532_0  \n",
      "sqlite                    3.33.0               h2a8f88b_0  \n",
      "terminado                 0.9.1                    py38_0  \n",
      "testpath                  0.4.4                      py_0  \n",
      "tornado                   6.0.4            py38he774522_1  \n",
      "traitlets                 5.0.5                      py_0  \n",
      "vc                        14.1                 h0510ff6_4  \n",
      "vs2015_runtime            14.16.27012          hf0eaf9b_3  \n",
      "wcwidth                   0.2.5                      py_0  \n",
      "webencodings              0.5.1                    py38_1  \n",
      "wheel                     0.35.1             pyhd3eb1b0_0  \n",
      "widgetsnbextension        3.5.1                    py38_0  \n",
      "wincertstore              0.2                      py38_0  \n",
      "winpty                    0.4.3                         4  \n",
      "zeromq                    4.3.2                ha925a31_3  \n",
      "zipp                      3.4.0              pyhd3eb1b0_0  \n",
      "zlib                      1.2.11               h62dcd97_4  \n"
     ]
    }
   ],
   "source": [
    "conda list"
   ]
  },
  {
   "cell_type": "code",
   "execution_count": 4,
   "metadata": {},
   "outputs": [
    {
     "name": "stdout",
     "output_type": "stream",
     "text": [
      "Collecting package metadata (current_repodata.json): ...working... done\n",
      "Solving environment: ...working... \n",
      "The environment is inconsistent, please check the package plan carefully\n",
      "The following packages are causing the inconsistency:\n",
      "\n",
      "  - defaults/noarch::ipywidgets==7.5.1=py_1\n",
      "  - defaults/win-64::jupyter==1.0.0=py38_7\n",
      "  - defaults/win-64::widgetsnbextension==3.5.1=py38_0\n",
      "done\n",
      "\n",
      "## Package Plan ##\n",
      "\n",
      "  environment location: C:\\Users\\Lenovo\\anaconda3\\envs\\hacktiv8-env\n",
      "\n",
      "  added / updated specs:\n",
      "    - numpy\n",
      "\n",
      "\n",
      "The following NEW packages will be INSTALLED:\n",
      "\n",
      "  notebook           pkgs/main/win-64::notebook-6.1.4-py38_0\n",
      "\n",
      "\n",
      "Preparing transaction: ...working... done\n",
      "Verifying transaction: ...working... done\n",
      "Executing transaction: ...working... done\n",
      "\n",
      "Note: you may need to restart the kernel to use updated packages.\n"
     ]
    },
    {
     "name": "stderr",
     "output_type": "stream",
     "text": [
      "\n",
      "\n",
      "==> WARNING: A newer version of conda exists. <==\n",
      "  current version: 4.8.3\n",
      "  latest version: 4.9.2\n",
      "\n",
      "Please update conda by running\n",
      "\n",
      "    $ conda update -n base -c defaults conda\n",
      "\n",
      "\n",
      "DEBUG menuinst_win32:__init__(198): Menu: name: 'Anaconda${PY_VER} ${PLATFORM}', prefix: 'C:\\Users\\Lenovo\\anaconda3\\envs\\hacktiv8-env', env_name: 'hacktiv8-env', mode: 'user', used_mode: 'user'\n",
      "DEBUG menuinst_win32:create(323): Shortcut cmd is C:\\Users\\Lenovo\\anaconda3\\python.exe, args are ['C:\\\\Users\\\\Lenovo\\\\anaconda3\\\\cwp.py', 'C:\\\\Users\\\\Lenovo\\\\anaconda3\\\\envs\\\\hacktiv8-env', 'C:\\\\Users\\\\Lenovo\\\\anaconda3\\\\envs\\\\hacktiv8-env\\\\python.exe', 'C:\\\\Users\\\\Lenovo\\\\anaconda3\\\\envs\\\\hacktiv8-env\\\\Scripts\\\\jupyter-notebook-script.py', '\"%USERPROFILE%/\"']\n"
     ]
    }
   ],
   "source": [
    "conda install numpy"
   ]
  },
  {
   "cell_type": "code",
   "execution_count": 5,
   "metadata": {},
   "outputs": [],
   "source": [
    "import numpy as np"
   ]
  },
  {
   "cell_type": "code",
   "execution_count": 6,
   "metadata": {},
   "outputs": [
    {
     "name": "stdout",
     "output_type": "stream",
     "text": [
      "numpy ver: 1.19.2\n"
     ]
    }
   ],
   "source": [
    "print(\"numpy ver:\", np.__version__)"
   ]
  },
  {
   "cell_type": "code",
   "execution_count": 76,
   "metadata": {},
   "outputs": [
    {
     "name": "stdout",
     "output_type": "stream",
     "text": [
      "[[1 2 3]\n",
      " [4 5 6]]\n",
      "type: <class 'numpy.ndarray'> shape: (2, 3)\n",
      "axis 0: 2 axis 1: 3\n",
      "2\n",
      "[0.1 0.2 0.3 0.4]\n",
      "type: <class 'numpy.ndarray'> shape: (4,)\n",
      "axis [0]: 4\n",
      "4\n",
      "[[[1 2]\n",
      "  [3 4]]\n",
      "\n",
      " [[5 6]\n",
      "  [7 8]]]\n",
      "type: <class 'numpy.ndarray'> shape: (2, 2, 2)\n",
      "axis 0: 2 axis 1: 2 axis 2: 2\n",
      "2\n"
     ]
    }
   ],
   "source": [
    "# define array using np.array\n",
    "arr_int = np.array([[1,2,3],[4,5,6]])\n",
    "print(arr_int)\n",
    "print(\"type:\", type(arr_int), \"shape:\", arr_int.shape)\n",
    "print(\"axis 0:\", arr_int.shape[0], \"axis 1:\", arr_int.shape[1])\n",
    "print(len(arr_int))\n",
    "\n",
    "arr1d_float = np.array([.1,.2,.3,.4])\n",
    "print(arr1d_float)\n",
    "print(\"type:\", type(arr1d_float), \"shape:\", arr1d_float.shape)\n",
    "print(\"axis [0]:\", arr1d_float.shape[0])\n",
    "print(len(arr1d_float))\n",
    "\n",
    "arr3d_int = np.array([[[1,2], [3,4]], [[5,6], [7,8]]])\n",
    "print(arr3d_int)\n",
    "print(\"type:\", type(arr3d_int), \"shape:\", arr3d_int.shape)\n",
    "print(\n",
    "    \"axis 0:\", arr3d_int.shape[0], \n",
    "    \"axis 1:\", arr3d_int.shape[1],\n",
    "    \"axis 2:\", arr3d_int.shape[2]\n",
    ")\n",
    "print(len(arr3d_int))"
   ]
  },
  {
   "cell_type": "code",
   "execution_count": 77,
   "metadata": {},
   "outputs": [
    {
     "name": "stdout",
     "output_type": "stream",
     "text": [
      "[[0. 0. 0.]\n",
      " [0. 0. 0.]] float64 <class 'numpy.ndarray'> (2, 3)\n",
      "[[1. 1. 1. 1.]\n",
      " [1. 1. 1. 1.]] float64 <class 'numpy.ndarray'> (2, 4)\n",
      "[1.  1.1 1.2 1.3 1.4 1.5 1.6 1.7 1.8 1.9] float64 <class 'numpy.ndarray'> (10,)\n",
      "[[ 1.06555321e-311  1.06559273e-311 -4.61307932e+019 ...  0.00000000e+000\n",
      "  -1.80778254e-121  1.06559075e-311]\n",
      " [ 1.06559077e-311  3.60767295e-072  0.00000000e+000 ...  1.45252838e-087\n",
      "   1.06558934e-311  1.06559111e-311]\n",
      " [-5.83343944e-077  0.00000000e+000  0.00000000e+000 ...  1.06556975e-311\n",
      "   1.06559124e-311  1.05992523e+102]\n",
      " ...\n",
      " [ 0.00000000e+000  0.00000000e+000  0.00000000e+000 ...  0.00000000e+000\n",
      "   0.00000000e+000  0.00000000e+000]\n",
      " [ 0.00000000e+000  0.00000000e+000  0.00000000e+000 ...  0.00000000e+000\n",
      "   0.00000000e+000  0.00000000e+000]\n",
      " [ 0.00000000e+000  0.00000000e+000  0.00000000e+000 ...  0.00000000e+000\n",
      "   0.00000000e+000  0.00000000e+000]] float64 <class 'numpy.ndarray'> (100, 100)\n"
     ]
    }
   ],
   "source": [
    "arr_zeros = np.zeros((2,3))\n",
    "print(arr_zeros, arr_zeros.dtype, type(arr_zeros), arr_zeros.shape)\n",
    "\n",
    "arr_ones = np.ones((2,4))\n",
    "print(arr_ones, arr_ones.dtype, type(arr_ones), arr_ones.shape)\n",
    "\n",
    "arr_arange = np.arange(1, 2, .1)\n",
    "print(arr_arange, arr_arange.dtype, type(arr_arange), arr_arange.shape)\n",
    "\n",
    "arr_empty = np.empty((100, 100))\n",
    "print(arr_empty, arr_empty.dtype, type(arr_empty), arr_empty.shape)"
   ]
  },
  {
   "cell_type": "code",
   "execution_count": 78,
   "metadata": {},
   "outputs": [
    {
     "name": "stdout",
     "output_type": "stream",
     "text": [
      "list: [[1, 2, 3], [4, 5, 6]]\n",
      "array: [[1 2 3]\n",
      " [4 5 6]]\n",
      "1 [1, 2]\n",
      "1 [1 2]\n",
      "[[6 5 4]\n",
      " [3 2 1]]\n"
     ]
    }
   ],
   "source": [
    "dummy_list = [[1,2,3], [4,5,6]]\n",
    "print (\"list:\", dummy_list)\n",
    "print (\"array:\", arr_int)\n",
    "\n",
    "#indexing\n",
    "print(dummy_list[0][0], dummy_list[0][:2])\n",
    "print(arr_int[0, 0], arr_int[0, :2])\n",
    "print(arr_int[::-1, ::-1])"
   ]
  },
  {
   "cell_type": "code",
   "execution_count": 79,
   "metadata": {},
   "outputs": [
    {
     "name": "stdout",
     "output_type": "stream",
     "text": [
      "num of dimension: 2\n",
      "num of dimension: 3\n",
      "num of size: 6\n",
      "num of size: 8\n"
     ]
    }
   ],
   "source": [
    "#ndimimension and size of ndarray\n",
    "print(\"num of dimension:\", arr_int.ndim)\n",
    "print(\"num of dimension:\", arr3d_int.ndim)\n",
    "\n",
    "print(\"num of size:\", arr_int.size)\n",
    "print(\"num of size:\", arr3d_int.size)"
   ]
  },
  {
   "cell_type": "code",
   "execution_count": 80,
   "metadata": {},
   "outputs": [
    {
     "name": "stdout",
     "output_type": "stream",
     "text": [
      "before flatten: [[1 2 3]\n",
      " [4 5 6]]\n",
      "after flatten: [1 2 3 4 5 6]\n"
     ]
    }
   ],
   "source": [
    "#flatten\n",
    "print(\"before flatten:\", arr_int)\n",
    "print(\"after flatten:\", arr_int.flatten())"
   ]
  },
  {
   "cell_type": "code",
   "execution_count": 81,
   "metadata": {},
   "outputs": [
    {
     "data": {
      "text/plain": [
       "((3,), (1, 3), (2, 1))"
      ]
     },
     "execution_count": 81,
     "metadata": {},
     "output_type": "execute_result"
    }
   ],
   "source": [
    "np.array([1, 2, 3]).shape, np.array([[1, 2, 3]]).shape, np.array([[10], [2]]).shape"
   ]
  },
  {
   "cell_type": "code",
   "execution_count": 82,
   "metadata": {},
   "outputs": [
    {
     "name": "stdout",
     "output_type": "stream",
     "text": [
      "[ 0.1  0.2  0.3  0.4 10.  11.  12. ]\n",
      "[[ 1  2  3]\n",
      " [ 4  5  6]\n",
      " [10 11 12]]\n",
      "[[ 1  2  3 10]\n",
      " [ 4  5  6 11]]\n",
      "[[1 2 3]\n",
      " [4 5 6]\n",
      " [1 2 3]\n",
      " [4 5 6]]\n",
      "[[1 2 3 1 2 3]\n",
      " [4 5 6 4 5 6]]\n",
      "[[[1 2]\n",
      "  [3 4]]\n",
      "\n",
      " [[5 6]\n",
      "  [7 8]]]\n",
      "[[[1 2]]\n",
      "\n",
      " [[5 6]]]\n",
      "[[[3 4]]\n",
      "\n",
      " [[7 8]]]\n",
      "[[[1 2]]\n",
      "\n",
      " [[5 6]]]\n",
      "[[[1 2]\n",
      "  [3 4]]]\n",
      "[[[5 6]\n",
      "  [7 8]]]\n",
      "[[[1 2]\n",
      "  [3 4]]]\n"
     ]
    }
   ],
   "source": [
    "#append and delete\n",
    "print(np.append(arr1d_float, [10,11,12]))\n",
    "print(np.append(arr_int, [[10,11,12]], axis=0))\n",
    "print(np.append(arr_int, [[10], [11]], axis=1))\n",
    "print(np.append(arr_int,arr_int, axis=0))\n",
    "\n",
    "print(np.concatenate([arr_int,arr_int], axis=1))\n",
    "\n",
    "print(arr3d_int)\n",
    "print(np.delete(arr3d_int, -1, axis=1))\n",
    "print(np.delete(arr3d_int, 0, axis=1))\n",
    "print(np.delete(arr3d_int, 1, axis=1))\n",
    "\n",
    "print(np.delete(arr3d_int, -1, axis=0))\n",
    "print(np.delete(arr3d_int, 0, axis=0))\n",
    "print(np.delete(arr3d_int, 1, axis=0))"
   ]
  },
  {
   "cell_type": "code",
   "execution_count": 83,
   "metadata": {},
   "outputs": [
    {
     "name": "stdout",
     "output_type": "stream",
     "text": [
      "[[[1 2]\n",
      "  [3 4]]\n",
      "\n",
      " [[5 6]\n",
      "  [7 8]]]\n",
      "(2, 2, 2)\n",
      "[[[1 2]\n",
      "  [3 4]]\n",
      "\n",
      " [[5 6]\n",
      "  [7 8]]]\n"
     ]
    }
   ],
   "source": [
    "#reshape\n",
    "print(arr3d_int)\n",
    "print(arr3d_int.shape)\n",
    "print(np.reshape(arr3d_int, (2,2,2)))"
   ]
  },
  {
   "cell_type": "code",
   "execution_count": 84,
   "metadata": {},
   "outputs": [
    {
     "name": "stdout",
     "output_type": "stream",
     "text": [
      "(4,)\n",
      "[[0.1]\n",
      " [0.2]\n",
      " [0.3]\n",
      " [0.4]] (4, 1)\n",
      "[[0.1 0.2 0.3 0.4]]\n"
     ]
    }
   ],
   "source": [
    "print(arr1d_float.shape)\n",
    "\n",
    "arr2d_float = arr1d_float[:, np.newaxis]\n",
    "print(arr2d_float, arr2d_float.shape)\n",
    "\n",
    "print(arr1d_float[None])"
   ]
  },
  {
   "cell_type": "markdown",
   "metadata": {},
   "source": [
    "# Mathematics Operations"
   ]
  },
  {
   "cell_type": "code",
   "execution_count": 97,
   "metadata": {},
   "outputs": [
    {
     "name": "stdout",
     "output_type": "stream",
     "text": [
      "[[1, 2, 3], [4, 5, 6], [1, 2, 3], [4, 5, 6]]\n",
      "[[ 2  4  6]\n",
      " [ 8 10 12]]\n",
      "[[10 20 30]\n",
      " [40 50 60]]\n",
      "[[ 1  4  9]\n",
      " [16 25 36]]\n",
      "[[1. 1. 1.]\n",
      " [1. 1. 1.]]\n",
      "[5 7 9]\n",
      "[[ 6]\n",
      " [15]]\n",
      "[[5 7 9]]\n",
      "[[21]]\n"
     ]
    }
   ],
   "source": [
    "print(dummy_list + dummy_list)\n",
    "print(arr_int + arr_int)\n",
    "print(arr_int * 10)\n",
    "print(arr_int * arr_int)\n",
    "print(arr_int / arr_int)\n",
    "\n",
    "print(arr_int.sum(axis=0))\n",
    "print(arr_int.sum(axis=1, keepdims=True))\n",
    "print(arr_int.sum(axis=0, keepdims=True))\n",
    "print(arr_int.sum(keepdims=True))"
   ]
  },
  {
   "cell_type": "code",
   "execution_count": 105,
   "metadata": {},
   "outputs": [
    {
     "name": "stdout",
     "output_type": "stream",
     "text": [
      "[0.1 0.2 0.3 0.4] [0.1 0.2 0.3 0.4]\n",
      "0.3\n",
      "[[1 2 3]\n",
      " [4 5 6]]\n",
      "[[14 32]\n",
      " [32 77]]\n",
      "[[1 2 3]\n",
      " [4 5 6]]\n",
      "[[14 32]\n",
      " [32 77]]\n",
      "[[1 2 3]\n",
      " [4 5 6]]\n",
      "[[17 22 27]\n",
      " [22 29 36]\n",
      " [27 36 45]]\n"
     ]
    },
    {
     "ename": "ValueError",
     "evalue": "more operands provided to einstein sum function than specified in the subscripts string",
     "output_type": "error",
     "traceback": [
      "\u001b[1;31m---------------------------------------------------------------------------\u001b[0m",
      "\u001b[1;31mValueError\u001b[0m                                Traceback (most recent call last)",
      "\u001b[1;32m<ipython-input-105-800d01c91044>\u001b[0m in \u001b[0;36m<module>\u001b[1;34m\u001b[0m\n\u001b[0;32m     10\u001b[0m \u001b[0mprint\u001b[0m\u001b[1;33m(\u001b[0m\u001b[0marr_int\u001b[0m\u001b[1;33m)\u001b[0m\u001b[1;33m\u001b[0m\u001b[1;33m\u001b[0m\u001b[0m\n\u001b[0;32m     11\u001b[0m \u001b[0mprint\u001b[0m\u001b[1;33m(\u001b[0m\u001b[0mnp\u001b[0m\u001b[1;33m.\u001b[0m\u001b[0mmatmul\u001b[0m\u001b[1;33m(\u001b[0m\u001b[0marr_int\u001b[0m\u001b[1;33m.\u001b[0m\u001b[0mT\u001b[0m\u001b[1;33m,\u001b[0m \u001b[0marr_int\u001b[0m\u001b[1;33m)\u001b[0m\u001b[1;33m)\u001b[0m\u001b[1;33m\u001b[0m\u001b[1;33m\u001b[0m\u001b[0m\n\u001b[1;32m---> 12\u001b[1;33m \u001b[0mprint\u001b[0m\u001b[1;33m(\u001b[0m\u001b[0mnp\u001b[0m\u001b[1;33m.\u001b[0m\u001b[0meinsum\u001b[0m\u001b[1;33m(\u001b[0m\u001b[1;34m\"ij, jk->ji\"\u001b[0m\u001b[1;33m,\u001b[0m \u001b[0marr_int\u001b[0m\u001b[1;33m)\u001b[0m\u001b[1;33m)\u001b[0m\u001b[1;33m\u001b[0m\u001b[1;33m\u001b[0m\u001b[0m\n\u001b[0m",
      "\u001b[1;32m<__array_function__ internals>\u001b[0m in \u001b[0;36meinsum\u001b[1;34m(*args, **kwargs)\u001b[0m\n",
      "\u001b[1;32m~\\anaconda3\\envs\\hacktiv8-env\\lib\\site-packages\\numpy\\core\\einsumfunc.py\u001b[0m in \u001b[0;36meinsum\u001b[1;34m(out, optimize, *operands, **kwargs)\u001b[0m\n\u001b[0;32m   1348\u001b[0m         \u001b[1;32mif\u001b[0m \u001b[0mspecified_out\u001b[0m\u001b[1;33m:\u001b[0m\u001b[1;33m\u001b[0m\u001b[1;33m\u001b[0m\u001b[0m\n\u001b[0;32m   1349\u001b[0m             \u001b[0mkwargs\u001b[0m\u001b[1;33m[\u001b[0m\u001b[1;34m'out'\u001b[0m\u001b[1;33m]\u001b[0m \u001b[1;33m=\u001b[0m \u001b[0mout\u001b[0m\u001b[1;33m\u001b[0m\u001b[1;33m\u001b[0m\u001b[0m\n\u001b[1;32m-> 1350\u001b[1;33m         \u001b[1;32mreturn\u001b[0m \u001b[0mc_einsum\u001b[0m\u001b[1;33m(\u001b[0m\u001b[1;33m*\u001b[0m\u001b[0moperands\u001b[0m\u001b[1;33m,\u001b[0m \u001b[1;33m**\u001b[0m\u001b[0mkwargs\u001b[0m\u001b[1;33m)\u001b[0m\u001b[1;33m\u001b[0m\u001b[1;33m\u001b[0m\u001b[0m\n\u001b[0m\u001b[0;32m   1351\u001b[0m \u001b[1;33m\u001b[0m\u001b[0m\n\u001b[0;32m   1352\u001b[0m     \u001b[1;31m# Check the kwargs to avoid a more cryptic error later, without having to\u001b[0m\u001b[1;33m\u001b[0m\u001b[1;33m\u001b[0m\u001b[1;33m\u001b[0m\u001b[0m\n",
      "\u001b[1;31mValueError\u001b[0m: more operands provided to einstein sum function than specified in the subscripts string"
     ]
    }
   ],
   "source": [
    "print (arr1d_float, arr1d_float)\n",
    "print(np.dot(arr1d_float, arr1d_float))\n",
    "\n",
    "print(arr_int)\n",
    "print(np.dot(arr_int, arr_int.T))\n",
    "\n",
    "print(arr_int)\n",
    "print(np.matmul(arr_int, arr_int.T))\n",
    "\n",
    "print(arr_int)\n",
    "print(np.matmul(arr_int.T, arr_int))\n",
    "print(np.einsum(\"ij, jk->ji\", arr_int))"
   ]
  },
  {
   "cell_type": "code",
   "execution_count": 116,
   "metadata": {},
   "outputs": [
    {
     "name": "stdout",
     "output_type": "stream",
     "text": [
      "[[4 9 6]\n",
      " [4 5 6]]\n",
      "[[0.82876716 0.03982066 0.88557674]\n",
      " [0.56628677 0.19393237 0.14565492]]\n",
      "[[ 0.87934863 -2.41514016  1.2408447 ]\n",
      " [ 0.6047445   0.58081538 -0.84691576]]\n",
      "[[5.22517781]\n",
      " [6.46188642]\n",
      " [2.62225082]\n",
      " [2.41654891]\n",
      " [4.62259563]]\n"
     ]
    }
   ],
   "source": [
    "np.random.seed(11111)\n",
    "\n",
    "print(np.random.randint(10, size=(2,3)))\n",
    "print(np.random.uniform(size=(2,3)))\n",
    "print(np.random.randn(2,3))\n",
    "print(np.random.normal(2.,3, size=(5,1)))"
   ]
  },
  {
   "cell_type": "code",
   "execution_count": null,
   "metadata": {},
   "outputs": [],
   "source": []
  }
 ],
 "metadata": {
  "kernelspec": {
   "display_name": "Python 3",
   "language": "python",
   "name": "python3"
  },
  "language_info": {
   "codemirror_mode": {
    "name": "ipython",
    "version": 3
   },
   "file_extension": ".py",
   "mimetype": "text/x-python",
   "name": "python",
   "nbconvert_exporter": "python",
   "pygments_lexer": "ipython3",
   "version": "3.8.5"
  }
 },
 "nbformat": 4,
 "nbformat_minor": 4
}
