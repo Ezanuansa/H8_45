{
 "cells": [
  {
   "cell_type": "markdown",
   "metadata": {},
   "source": [
    "## List"
   ]
  },
  {
   "cell_type": "code",
   "execution_count": 1,
   "metadata": {},
   "outputs": [
    {
     "name": "stdout",
     "output_type": "stream",
     "text": [
      "[1, 2, 3]\n"
     ]
    }
   ],
   "source": [
    "int_list = [1,2,3]\n",
    "print (int_list)"
   ]
  },
  {
   "cell_type": "code",
   "execution_count": 8,
   "metadata": {},
   "outputs": [
    {
     "name": "stdout",
     "output_type": "stream",
     "text": [
      "[3, 2, 1]\n"
     ]
    }
   ],
   "source": [
    "print (int_list[-1::-1])"
   ]
  },
  {
   "cell_type": "code",
   "execution_count": 9,
   "metadata": {},
   "outputs": [],
   "source": [
    "coord = (110, 0.98 )\n",
    "tuple_from_list = tuple()"
   ]
  },
  {
   "cell_type": "code",
   "execution_count": 11,
   "metadata": {},
   "outputs": [
    {
     "name": "stdout",
     "output_type": "stream",
     "text": [
      "length of list: 10 [1, 2, 3, 3, 5, 6, 7, 8, 6, 6]\n",
      "num of unique values: {1, 2, 3, 5, 6, 7, 8}\n"
     ]
    }
   ],
   "source": [
    "dup_list = [1, 2, 3, 3, 5, 6, 7, 8, 6, 6]\n",
    "print(\"length of list:\", len(dup_list), dup_list)\n",
    "unique_list = set(dup_list)\n",
    "print(\"num of unique values:\", unique_list)"
   ]
  },
  {
   "cell_type": "code",
   "execution_count": 12,
   "metadata": {},
   "outputs": [
    {
     "name": "stdout",
     "output_type": "stream",
     "text": [
      "{'jack': 167, 'ryan': 190, 'paul': 182} <class 'dict'>\n"
     ]
    }
   ],
   "source": [
    "dict_height = {\"jack\" : 167, \"ryan\" : 190, \"paul\" : 182}\n",
    "print (dict_height, type (dict_height)) "
   ]
  },
  {
   "cell_type": "code",
   "execution_count": 14,
   "metadata": {},
   "outputs": [
    {
     "name": "stdout",
     "output_type": "stream",
     "text": [
      "jack's height : 167\n"
     ]
    }
   ],
   "source": [
    "print (\"jack's height :\", dict_height[\"jack\"] )"
   ]
  },
  {
   "cell_type": "code",
   "execution_count": 17,
   "metadata": {},
   "outputs": [
    {
     "name": "stdout",
     "output_type": "stream",
     "text": [
      "{'id': [1, 2, 3], 'name': ['jack', 'ryan'], 'amount': [100, 88, 94], 'coord': [(20, 199), (19, 211)]}\n"
     ]
    }
   ],
   "source": [
    "dict_transactions = {\n",
    "    \"id\": [1,2,3], \n",
    "    'name': ['jack','ryan'],\n",
    "    'amount':[100,88,94], \n",
    "    'coord': [(20,199), (19,211)]\n",
    "}\n",
    "print (dict_transactions)"
   ]
  },
  {
   "cell_type": "code",
   "execution_count": 18,
   "metadata": {},
   "outputs": [
    {
     "name": "stdout",
     "output_type": "stream",
     "text": [
      "['ryan', 'jack']\n",
      "[88, 94]\n",
      "{'id': [1, 2, 3], 'name': ['jack', 'ryan'], 'amount': [110, 95], 'coord': [(20, 199), (19, 211)]}\n"
     ]
    }
   ],
   "source": [
    "print(dict_transactions[\"name\"][::-1])\n",
    "print(dict_transactions[\"amount\"][1:])\n",
    "dict_transactions[\"amount\"]=[110,95]\n",
    "print(dict_transactions)"
   ]
  },
  {
   "cell_type": "code",
   "execution_count": 21,
   "metadata": {},
   "outputs": [
    {
     "data": {
      "text/plain": [
       "dict_keys(['id', 'name', 'amount', 'coord'])"
      ]
     },
     "execution_count": 21,
     "metadata": {},
     "output_type": "execute_result"
    }
   ],
   "source": [
    "dict_transactions.keys()"
   ]
  },
  {
   "cell_type": "code",
   "execution_count": 22,
   "metadata": {},
   "outputs": [
    {
     "data": {
      "text/plain": [
       "[110, 95]"
      ]
     },
     "execution_count": 22,
     "metadata": {},
     "output_type": "execute_result"
    }
   ],
   "source": [
    "dict_transactions.get(\"amount\")"
   ]
  },
  {
   "cell_type": "code",
   "execution_count": 24,
   "metadata": {},
   "outputs": [
    {
     "name": "stdout",
     "output_type": "stream",
     "text": [
      "[10, 11, 12]\n",
      "[11, 12, 13]\n",
      "[10, 11, 12, 11, 12, 13]\n"
     ]
    }
   ],
   "source": [
    "age = [10,11,12]\n",
    "print (age)\n",
    "umur = [11,12,13]\n",
    "print (umur)\n",
    "\n",
    "age += umur\n",
    "print(age)"
   ]
  },
  {
   "cell_type": "markdown",
   "metadata": {},
   "source": [
    "# Control Flow"
   ]
  },
  {
   "cell_type": "code",
   "execution_count": 25,
   "metadata": {},
   "outputs": [
    {
     "name": "stdout",
     "output_type": "stream",
     "text": [
      "buy a magazine\n"
     ]
    }
   ],
   "source": [
    "book_price = 500000\n",
    "magazine_price = 10000\n",
    "money = 20000\n",
    "\n",
    "if money > book_price:\n",
    "    print('buy a book!')\n",
    "elif money > magazine_price:\n",
    "    print('buy a magazine')\n",
    "else:\n",
    "    print(\"gather a money please\")\n",
    "    "
   ]
  },
  {
   "cell_type": "code",
   "execution_count": 26,
   "metadata": {},
   "outputs": [
    {
     "name": "stdout",
     "output_type": "stream",
     "text": [
      "buy a magazine\n"
     ]
    }
   ],
   "source": [
    "book_price = 500000\n",
    "magazine_price = 10000\n",
    "money = 20000\n",
    "\n",
    "is_buy_book = money > book_price\n",
    "is_buy_magazine = money > magazine_price\n",
    "\n",
    "if is_buy_book:\n",
    "    print('buy a book!')\n",
    "elif is_buy_magazine:\n",
    "    print('buy a magazine')\n",
    "else:\n",
    "    print(\"gather a money please\")"
   ]
  },
  {
   "cell_type": "code",
   "execution_count": 28,
   "metadata": {},
   "outputs": [
    {
     "name": "stdout",
     "output_type": "stream",
     "text": [
      "do something!\n"
     ]
    }
   ],
   "source": [
    "is_raining = False\n",
    "\n",
    "if is_raining:\n",
    "    print('stay at home')\n",
    "else:\n",
    "    print('do something!')"
   ]
  },
  {
   "cell_type": "code",
   "execution_count": 30,
   "metadata": {},
   "outputs": [
    {
     "name": "stdout",
     "output_type": "stream",
     "text": [
      "do something !\n",
      "student is not valid! Who are you ?\n"
     ]
    }
   ],
   "source": [
    "what_to_do = \"stay at home\" if is_raining else \"do something !\"\n",
    "print (what_to_do)\n",
    "\n",
    "list_name = [\"eza\", \"winda\", \"idfi\",\"septy\",\"tiurma\",\"yoanita\"]\n",
    "student = \"josh\"\n",
    "if student in list_name:\n",
    "    print (\"student is valid !\")\n",
    "else:\n",
    "    print(\"student is not valid! Who are you ?\")"
   ]
  },
  {
   "cell_type": "markdown",
   "metadata": {},
   "source": [
    "# while loop"
   ]
  },
  {
   "cell_type": "code",
   "execution_count": 18,
   "metadata": {},
   "outputs": [
    {
     "ename": "IndentationError",
     "evalue": "expected an indented block (<ipython-input-18-0e164e014cc9>, line 11)",
     "output_type": "error",
     "traceback": [
      "\u001b[1;36m  File \u001b[1;32m\"<ipython-input-18-0e164e014cc9>\"\u001b[1;36m, line \u001b[1;32m11\u001b[0m\n\u001b[1;33m    list_taniya.append(student)\u001b[0m\n\u001b[1;37m    ^\u001b[0m\n\u001b[1;31mIndentationError\u001b[0m\u001b[1;31m:\u001b[0m expected an indented block\n"
     ]
    }
   ],
   "source": [
    "list_names = [\"eza\", \"windi\", \"idfi tAnIya\",\"septy\",\"tiurma\",\n",
    "             \"yoanita\", \"idfi taniya\",\"idfi taniyakusuma\"]\n",
    "list_taniya = []\n",
    "\n",
    "idx = 0\n",
    "while idx < len(list_names):\n",
    "    student = list_names[idx]\n",
    "    print(\"processing:\",student)\n",
    "    if \"taniya\" in student:\n",
    "      #  print(student)\n",
    "    list_taniya.append(student)\n",
    "    idx += 1\n",
    "\n",
    "    print(\"taniya in students:\", list_taniya) \n"
   ]
  },
  {
   "cell_type": "markdown",
   "metadata": {},
   "source": [
    "# For Loop"
   ]
  },
  {
   "cell_type": "code",
   "execution_count": 17,
   "metadata": {},
   "outputs": [
    {
     "name": "stdout",
     "output_type": "stream",
     "text": [
      "taniya not found in eza\n",
      "taniya not found in windi\n",
      "taniya not found in septy\n",
      "taniya not found in tiurma\n",
      "taniya not found in yoanita\n",
      "['eza', 'windi', 'idfi taniya', 'septy', 'tiurma', 'yoanita', 'idfi taniya', 'idfi taniyakusuma', 'idfi taniya', 'idfi taniya', 'idfi taniyakusuma']\n"
     ]
    }
   ],
   "source": [
    "for student in list_names:\n",
    "    if \"taniya\" in student.lower():\n",
    "        list_taniya.append(student)\n",
    "        continue\n",
    "    print(f\"taniya not found in {student}\")\n",
    "print(list_taniya)\n",
    "        "
   ]
  },
  {
   "cell_type": "code",
   "execution_count": 19,
   "metadata": {},
   "outputs": [
    {
     "name": "stdout",
     "output_type": "stream",
     "text": [
      "{'id': [1, 2, 3], 'name': ['jack', 'ryan'], 'amount': [100, 88, 94], 'coord': [(20, 199), (19, 211)]}\n"
     ]
    }
   ],
   "source": [
    "dict_transactions = {\n",
    "    \"id\": [1,2,3], \n",
    "    'name': ['jack','ryan'],\n",
    "    'amount':[100,88,94], \n",
    "    'coord': [(20,199), (19,211)]\n",
    "}\n",
    "print (dict_transactions)"
   ]
  },
  {
   "cell_type": "code",
   "execution_count": 21,
   "metadata": {},
   "outputs": [
    {
     "name": "stdout",
     "output_type": "stream",
     "text": [
      "(110, 19)\n",
      "x = 110, y = 19\n"
     ]
    }
   ],
   "source": [
    "coord = 110, 19\n",
    "print(coord), type(coord)\n",
    "x, y = list(coord)\n",
    "print(f\"x = {x}, y = {y}\")"
   ]
  },
  {
   "cell_type": "code",
   "execution_count": 23,
   "metadata": {},
   "outputs": [
    {
     "name": "stdout",
     "output_type": "stream",
     "text": [
      "id:[1, 2, 3]\n",
      "name:['jack', 'ryan']\n",
      "amount:[100, 88, 94]\n",
      "coord:[(20, 199), (19, 211)]\n"
     ]
    }
   ],
   "source": [
    "for i, j in dict_transactions.items():\n",
    "    print(f\"{i}:{j}\")"
   ]
  },
  {
   "cell_type": "code",
   "execution_count": 27,
   "metadata": {},
   "outputs": [
    {
     "name": "stdout",
     "output_type": "stream",
     "text": [
      "0 .. sama aja dengan: eza\n",
      "1 .. sama aja dengan: windi\n",
      "2 .. sama aja dengan: idfi taniya\n",
      "3 .. sama aja dengan: septy\n",
      "4 .. sama aja dengan: tiurma\n",
      "5 .. sama aja dengan: yoanita\n",
      "6 .. sama aja dengan: idfi taniya\n",
      "7 .. sama aja dengan: idfi taniyakusuma\n"
     ]
    }
   ],
   "source": [
    "for idx, _ in enumerate(list_names):\n",
    "    print(idx, \".. sama aja dengan:\", list_names[idx])"
   ]
  },
  {
   "cell_type": "code",
   "execution_count": 30,
   "metadata": {},
   "outputs": [
    {
     "data": {
      "text/plain": [
       "(range(0, 10), range(1, 10))"
      ]
     },
     "execution_count": 30,
     "metadata": {},
     "output_type": "execute_result"
    }
   ],
   "source": [
    "range(10), range(1,10)"
   ]
  },
  {
   "cell_type": "code",
   "execution_count": 28,
   "metadata": {},
   "outputs": [],
   "source": [
    "dates = \"2020-08-01\"\n",
    "dates.split"
   ]
  },
  {
   "cell_type": "code",
   "execution_count": null,
   "metadata": {},
   "outputs": [],
   "source": []
  }
 ],
 "metadata": {
  "kernelspec": {
   "display_name": "Python 3",
   "language": "python",
   "name": "python3"
  },
  "language_info": {
   "codemirror_mode": {
    "name": "ipython",
    "version": 3
   },
   "file_extension": ".py",
   "mimetype": "text/x-python",
   "name": "python",
   "nbconvert_exporter": "python",
   "pygments_lexer": "ipython3",
   "version": "3.8.5"
  }
 },
 "nbformat": 4,
 "nbformat_minor": 4
}
